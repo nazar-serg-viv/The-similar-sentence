{
 "cells": [
  {
   "cell_type": "code",
   "execution_count": 64,
   "metadata": {},
   "outputs": [
    {
     "name": "stdout",
     "output_type": "stream",
     "text": [
      "[[0 0 0 ... 0 0 0]\n",
      " [0 1 0 ... 0 0 0]\n",
      " [0 0 0 ... 0 0 0]\n",
      " ...\n",
      " [1 0 0 ... 0 0 0]\n",
      " [0 0 0 ... 0 0 0]\n",
      " [0 0 0 ... 0 0 0]]\n",
      "[0 1 0 0 0 0 0 0 0 0 0 0 0 0 0 0 0 0 0 0 0 0]\n"
     ]
    }
   ],
   "source": [
    "import re\n",
    "import numpy as np\n",
    "a = open('txt.ipynb', 'r')\n",
    "\n",
    "v = []\n",
    "x =['']\n",
    "for f in a:\n",
    "    b = re.split('[^a-z]', f.lower())\n",
    "    f = [x for x in b if x]\n",
    "    v.append(f)                     \n",
    "\n",
    "d = { item for elem in v for item in elem}\n",
    "g = [ i for i in d if i]\n",
    "    \n",
    "a = np.array([10])    \n",
    "         \n",
    "for m in v:\n",
    "    for j in g:\n",
    "        if j in m:\n",
    "            a = np.append(a, 1)\n",
    "        else:\n",
    "            a = np.append(a, 0)\n",
    "            \n",
    "a = np.delete(a, 0)\n",
    "b = a.reshape(22, 254)\n",
    "print(b)\n",
    "b.shape\n",
    "\n",
    "print(b[: , 1])"
   ]
  },
  {
   "cell_type": "code",
   "execution_count": 65,
   "metadata": {},
   "outputs": [
    {
     "name": "stdout",
     "output_type": "stream",
     "text": [
      "0.0\n",
      "0.9402385695332803\n",
      "0.8619868881315291\n",
      "0.8885443574849294\n",
      "0.8055388829343507\n",
      "0.9351796276447836\n",
      "0.7547442642060137\n",
      "0.9154845745271484\n",
      "0.9069515789601529\n",
      "0.8833576312960392\n",
      "0.8703592552895671\n",
      "0.8703592552895671\n",
      "0.8773721321030068\n",
      "0.8703592552895671\n",
      "0.8619868881315291\n",
      "0.9402385695332803\n",
      "0.85361498905772\n",
      "0.9503708333014534\n",
      "0.9442721787424647\n",
      "0.9402385695332803\n",
      "0.8427572744917122\n",
      "0.8250364469440588\n"
     ]
    }
   ],
   "source": [
    "from scipy.spatial import distance\n",
    "\n",
    "i = 0\n",
    "for i in range(len(v)):\n",
    "    print(distance.cosine(b[0], b[i]))\n",
    "    i += 1\n",
    "    \n"
   ]
  },
  {
   "cell_type": "code",
   "execution_count": null,
   "metadata": {},
   "outputs": [],
   "source": []
  }
 ],
 "metadata": {
  "kernelspec": {
   "display_name": "Python 3",
   "language": "python",
   "name": "python3"
  },
  "language_info": {
   "codemirror_mode": {
    "name": "ipython",
    "version": 3
   },
   "file_extension": ".py",
   "mimetype": "text/x-python",
   "name": "python",
   "nbconvert_exporter": "python",
   "pygments_lexer": "ipython3",
   "version": "3.8.5"
  }
 },
 "nbformat": 4,
 "nbformat_minor": 4
}
